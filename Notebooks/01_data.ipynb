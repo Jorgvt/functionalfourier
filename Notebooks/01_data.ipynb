{
 "cells": [
  {
   "cell_type": "code",
   "execution_count": null,
   "metadata": {},
   "outputs": [],
   "source": [
    "#| default_exp data"
   ]
  },
  {
   "cell_type": "code",
   "execution_count": null,
   "metadata": {},
   "outputs": [],
   "source": [
    "#| export\n",
    "import numpy as np\n",
    "import tensorflow as tf"
   ]
  },
  {
   "cell_type": "code",
   "execution_count": null,
   "metadata": {},
   "outputs": [
    {
     "name": "stderr",
     "output_type": "stream",
     "text": [
      "2024-01-24 11:09:20.118724: I tensorflow/core/platform/cpu_feature_guard.cc:182] This TensorFlow binary is optimized to use available CPU instructions in performance-critical operations.\n",
      "To enable the following instructions: AVX2 AVX512F FMA, in other operations, rebuild TensorFlow with the appropriate compiler flags.\n",
      "2024-01-24 11:09:22.283133: W tensorflow/compiler/tf2tensorrt/utils/py_utils.cc:38] TF-TRT Warning: Could not find TensorRT\n"
     ]
    }
   ],
   "source": [
    "#| hide\n",
    "tf.config.set_visible_devices([], device_type='GPU')"
   ]
  },
  {
   "cell_type": "code",
   "execution_count": null,
   "metadata": {},
   "outputs": [],
   "source": [
    "#| exporti\n",
    "def load_cifar10():\n",
    "    from tensorflow.keras.datasets import cifar10\n",
    "    \n",
    "    (X_train, Y_train), (X_test, Y_test) = cifar10.load_data()\n",
    "    X_train = X_train/255.\n",
    "    X_test = X_test/255.\n",
    "    Y_train = Y_train.astype(np.int32)[...,0]\n",
    "    Y_test = Y_test.astype(np.int32)[...,0]\n",
    "    \n",
    "    return (X_train, Y_train), (X_test, Y_test)"
   ]
  },
  {
   "cell_type": "code",
   "execution_count": null,
   "metadata": {},
   "outputs": [],
   "source": [
    "#| exporti\n",
    "def load_mnist():\n",
    "    from tensorflow.keras.datasets import mnist\n",
    "    \n",
    "    (X_train, Y_train), (X_test, Y_test) = mnist.load_data()\n",
    "    X_train = X_train[...,None]/255.\n",
    "    X_test = X_test[...,None]/255.\n",
    "    Y_train = Y_train.astype(np.int32)\n",
    "    Y_test = Y_test.astype(np.int32)\n",
    "\n",
    "    return (X_train, Y_train), (X_test, Y_test)"
   ]
  },
  {
   "cell_type": "code",
   "execution_count": null,
   "metadata": {},
   "outputs": [],
   "source": [
    "#| exporti\n",
    "def load_cats_vs_dogs():\n",
    "    import tensorflow_datasets as tfds\n",
    "\n",
    "    dst = tfds.load(\"cats_vs_dogs\", split=\"train\")\n",
    "    dst = dst.map(lambda x: (x[\"image\"], x[\"label\"]), num_parallel_calls=tf.data.AUTOTUNE)\n",
    "    return dst"
   ]
  },
  {
   "cell_type": "code",
   "execution_count": null,
   "metadata": {},
   "outputs": [],
   "source": [
    "#| export\n",
    "def load_data(name: str):\n",
    "    if name == \"cifar10\":\n",
    "        (X_train, Y_train), (X_test, Y_test) = load_cifar10()\n",
    "\n",
    "    elif name == \"mnist\":\n",
    "        (X_train, Y_train), (X_test, Y_test) = load_mnist()\n",
    "\n",
    "    elif name == \"cats_vs_dogs\":\n",
    "        dst = load_cats_vs_dogs()"
   ]
  },
  {
   "cell_type": "code",
   "execution_count": null,
   "metadata": {},
   "outputs": [],
   "source": [
    "for name in [\"mnist\", \"cifar10\", \"cats_vs_dogs\"]:\n",
    "    load_data(name)"
   ]
  }
 ],
 "metadata": {
  "kernelspec": {
   "display_name": "testing_gpu",
   "language": "python",
   "name": "python3"
  }
 },
 "nbformat": 4,
 "nbformat_minor": 2
}
