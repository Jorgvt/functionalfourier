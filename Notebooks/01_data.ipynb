{
 "cells": [
  {
   "cell_type": "code",
   "execution_count": null,
   "metadata": {},
   "outputs": [],
   "source": [
    "#| default_exp data"
   ]
  },
  {
   "cell_type": "code",
   "execution_count": null,
   "metadata": {},
   "outputs": [],
   "source": [
    "#| export\n",
    "import numpy as np\n",
    "import tensorflow as tf"
   ]
  },
  {
   "cell_type": "code",
   "execution_count": null,
   "metadata": {},
   "outputs": [],
   "source": [
    "#| hide\n",
    "tf.config.set_visible_devices([], device_type='GPU')"
   ]
  },
  {
   "cell_type": "code",
   "execution_count": null,
   "metadata": {},
   "outputs": [],
   "source": [
    "#| exporti\n",
    "def load_cifar10():\n",
    "    from tensorflow.keras.datasets import cifar10\n",
    "    \n",
    "    (X_train, Y_train), (X_test, Y_test) = cifar10.load_data()\n",
    "    X_train = X_train/255.\n",
    "    X_test = X_test/255.\n",
    "    Y_train = Y_train.astype(np.int32)[...,0]\n",
    "    Y_test = Y_test.astype(np.int32)[...,0]\n",
    "    \n",
    "    return tf.data.Dataset.from_tensor_slices((X_train, Y_train)), tf.data.Dataset.from_tensor_slices((X_test, Y_test))"
   ]
  },
  {
   "cell_type": "code",
   "execution_count": null,
   "metadata": {},
   "outputs": [],
   "source": [
    "#| exporti\n",
    "def load_mnist():\n",
    "    from tensorflow.keras.datasets import mnist\n",
    "    \n",
    "    (X_train, Y_train), (X_test, Y_test) = mnist.load_data()\n",
    "    X_train = X_train[...,None]/255.\n",
    "    X_test = X_test[...,None]/255.\n",
    "    Y_train = Y_train.astype(np.int32)\n",
    "    Y_test = Y_test.astype(np.int32)\n",
    "\n",
    "    return tf.data.Dataset.from_tensor_slices((X_train, Y_train)), tf.data.Dataset.from_tensor_slices((X_test, Y_test))"
   ]
  },
  {
   "cell_type": "code",
   "execution_count": null,
   "metadata": {},
   "outputs": [],
   "source": [
    "#| exporti\n",
    "def load_cats_vs_dogs():\n",
    "    import tensorflow_datasets as tfds\n",
    "\n",
    "    dst = tfds.load(\"cats_vs_dogs\", split=\"train\")\n",
    "    dst = dst.map(lambda x: (x[\"image\"], x[\"label\"]), num_parallel_calls=tf.data.AUTOTUNE)\n",
    "    return dst, None"
   ]
  },
  {
   "cell_type": "code",
   "execution_count": null,
   "metadata": {},
   "outputs": [],
   "source": [
    "#| export\n",
    "def load_data(name: str):\n",
    "    if name == \"cifar10\":\n",
    "        dst_train, dst_val = load_cifar10()\n",
    "\n",
    "    elif name == \"mnist\":\n",
    "        dst_train, dst_val = load_mnist()\n",
    "\n",
    "    elif name == \"cats_vs_dogs\":\n",
    "        dst_train, dst_val = load_cats_vs_dogs()"
   ]
  },
  {
   "cell_type": "code",
   "execution_count": null,
   "metadata": {},
   "outputs": [],
   "source": [
    "for name in [\"mnist\", \"cifar10\", \"cats_vs_dogs\"]:\n",
    "    load_data(name)"
   ]
  }
 ],
 "metadata": {
  "kernelspec": {
   "display_name": "testing_gpu",
   "language": "python",
   "name": "python3"
  }
 },
 "nbformat": 4,
 "nbformat_minor": 2
}
