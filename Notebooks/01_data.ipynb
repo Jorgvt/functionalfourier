{
 "cells": [
  {
   "cell_type": "code",
   "execution_count": null,
   "metadata": {},
   "outputs": [],
   "source": [
    "#| default_exp data"
   ]
  },
  {
   "cell_type": "code",
   "execution_count": null,
   "metadata": {},
   "outputs": [],
   "source": [
    "#| export\n",
    "import numpy as np\n",
    "import tensorflow as tf"
   ]
  },
  {
   "cell_type": "code",
   "execution_count": null,
   "metadata": {},
   "outputs": [],
   "source": [
    "#| hide\n",
    "tf.config.set_visible_devices([], device_type='GPU')"
   ]
  },
  {
   "cell_type": "code",
   "execution_count": null,
   "metadata": {},
   "outputs": [],
   "source": [
    "#| exporti\n",
    "def load_cifar10():\n",
    "    from tensorflow.keras.datasets import cifar10\n",
    "    \n",
    "    (X_train, Y_train), (X_test, Y_test) = cifar10.load_data()\n",
    "    X_train = X_train/255.\n",
    "    X_test = X_test/255.\n",
    "    Y_train = Y_train.astype(np.int32)[...,0]\n",
    "    Y_test = Y_test.astype(np.int32)[...,0]\n",
    "    \n",
    "    return tf.data.Dataset.from_tensor_slices((X_train, Y_train)), tf.data.Dataset.from_tensor_slices((X_test, Y_test))"
   ]
  },
  {
   "cell_type": "code",
   "execution_count": null,
   "metadata": {},
   "outputs": [],
   "source": [
    "#| exporti\n",
    "def load_mnist():\n",
    "    from tensorflow.keras.datasets import mnist\n",
    "    \n",
    "    (X_train, Y_train), (X_test, Y_test) = mnist.load_data()\n",
    "    X_train = X_train[...,None]/255.\n",
    "    X_test = X_test[...,None]/255.\n",
    "    Y_train = Y_train.astype(np.int32)\n",
    "    Y_test = Y_test.astype(np.int32)\n",
    "\n",
    "    return tf.data.Dataset.from_tensor_slices((X_train, Y_train)), tf.data.Dataset.from_tensor_slices((X_test, Y_test))"
   ]
  },
  {
   "cell_type": "code",
   "execution_count": null,
   "metadata": {},
   "outputs": [],
   "source": [
    "#| exporti\n",
    "def load_cats_vs_dogs(test_split):\n",
    "    import tensorflow_datasets as tfds\n",
    "    def preprocess(img):\n",
    "        img = tf.cast(img, tf.float32) / 255.0\n",
    "        return tf.image.resize(img, size=(150,150))\n",
    "    dst_train = tfds.load(\"cats_vs_dogs\", split=f\"train[:{int(100-test_split*100)}%]\")\n",
    "    dst_val = tfds.load(\"cats_vs_dogs\", split=f\"train[{int(100-test_split*100)}%:]\")\n",
    "    dst_train = dst_train.map(lambda x: (preprocess(x[\"image\"]), x[\"label\"]), num_parallel_calls=tf.data.AUTOTUNE)\n",
    "    dst_val = dst_val.map(lambda x: (preprocess(x[\"image\"]), x[\"label\"]), num_parallel_calls=tf.data.AUTOTUNE)\n",
    "    return dst_train, dst_val"
   ]
  },
  {
   "cell_type": "code",
   "execution_count": null,
   "metadata": {},
   "outputs": [],
   "source": [
    "#| export\n",
    "def load_data(name: str,\n",
    "              test_split: float):\n",
    "    if name == \"cifar10\":\n",
    "        dst_train, dst_val = load_cifar10()\n",
    "\n",
    "    elif name == \"mnist\":\n",
    "        dst_train, dst_val = load_mnist()\n",
    "\n",
    "    elif name == \"cats_vs_dogs\":\n",
    "        dst_train, dst_val = load_cats_vs_dogs(test_split=test_split)\n",
    "    \n",
    "    return dst_train, dst_val"
   ]
  },
  {
   "cell_type": "code",
   "execution_count": null,
   "metadata": {},
   "outputs": [
    {
     "name": "stdout",
     "output_type": "stream",
     "text": [
      "mnist: 60000 & 10000\n",
      "cifar10: 50000 & 10000\n",
      "cats_vs_dogs: 18610 & 4652\n"
     ]
    }
   ],
   "source": [
    "for name in [\"mnist\", \"cifar10\", \"cats_vs_dogs\"]:\n",
    "    dst_train, dst_val = load_data(name, test_split=0.2)\n",
    "    print(f\"{name}: {len(dst_train)} & {len(dst_val)}\")"
   ]
  }
 ],
 "metadata": {
  "kernelspec": {
   "display_name": "testing_gpu",
   "language": "python",
   "name": "python3"
  }
 },
 "nbformat": 4,
 "nbformat_minor": 2
}
